{
 "cells": [
  {
   "cell_type": "markdown",
   "id": "painted-foundation",
   "metadata": {},
   "source": [
    "# Sistema de Detecção de Span"
   ]
  },
  {
   "cell_type": "markdown",
   "id": "finished-uncle",
   "metadata": {},
   "source": [
    "# Objetivo"
   ]
  },
  {
   "cell_type": "markdown",
   "id": "particular-shadow",
   "metadata": {},
   "source": [
    "Criar um classificador de detecção de span. Para isso, treinar com o dataset **train_data.csv** validar a coluna SMS do dataset **validation_data.csv** como “ok” ou “blocked”"
   ]
  },
  {
   "cell_type": "markdown",
   "id": "optional-integer",
   "metadata": {},
   "source": [
    "# Objetivos Específicos"
   ]
  },
  {
   "cell_type": "markdown",
   "id": "demanding-aviation",
   "metadata": {},
   "source": [
    "- Qualidade do código.\n",
    "- Procedimentos (como os dados foram preparados/tratados, algoritmos utilizados, fundamentação\n",
    "das escolhas tomadas).\n",
    "- O nível de acerto da classificação também será avaliado, porém não será um critério fundamental\n",
    "nesta análise.\n"
   ]
  },
  {
   "cell_type": "markdown",
   "id": "digital-watts",
   "metadata": {},
   "source": [
    "# Resumo do Relatório"
   ]
  },
  {
   "cell_type": "markdown",
   "id": "demanding-defeat",
   "metadata": {},
   "source": [
    "1. Coleta de Dados e Análise Inicial\n",
    "2. Limpeza de Dados\n",
    "3. Análise Exploratória de Dados\n",
    "4. Pré-Modelagem\n",
    "5. Modelagem\n",
    "6. Avaliação de Métricas\n",
    "7. Modelo em Produção\n",
    "8. Considerações Finais"
   ]
  },
  {
   "cell_type": "markdown",
   "id": "collective-child",
   "metadata": {},
   "source": [
    "# Dependências"
   ]
  },
  {
   "cell_type": "code",
   "execution_count": 2,
   "id": "mechanical-syndrome",
   "metadata": {},
   "outputs": [],
   "source": [
    "#Libs de Manipulação e Visualização\n",
    "import pandas as pd\n",
    "import numpy as np\n",
    "import matplotlib.pyplot as plt \n",
    "import seaborn as sns\n",
    "\n",
    "\n",
    "#Libs de Processamento de Texto\n",
    "import urlextract\n",
    "import re  \n",
    "\n",
    "#Libs de NLP\n",
    "import nltk                        \n",
    "from nltk.corpus import stopwords\n",
    "from nltk.tokenize import word_tokenize \n",
    "from nltk.corpus import stopwords\n",
    "\n",
    "\n",
    "#Libs de Preprocessamento\n",
    "from sklearn.preprocessing import LabelEncoder\n",
    "from sklearn.preprocessing import MinMaxScaler\n",
    "from sklearn.impute import SimpleImputer\n",
    "from sklearn.feature_extraction.text import CountVectorizer\n",
    "from sklearn.feature_extraction.text import TfidfVectorizer\n",
    "from sklearn.pipeline import Pipeline\n",
    "from sklearn.pipeline import FeatureUnion\n",
    "from sklearn.model_selection import train_test_split\n",
    "\n",
    "#Libs de ML\n",
    "from sklearn.linear_model import LogisticRegression\n",
    "from sklearn.svm import SVC\n",
    "from sklearn.naive_bayes import MultinomialNB\n",
    "from sklearn.naive_bayes import GaussianNB\n",
    "from sklearn.tree import DecisionTreeClassifier\n",
    "from sklearn.neighbors import KNeighborsClassifier\n",
    "from sklearn.ensemble import RandomForestClassifier\n",
    "from sklearn.ensemble import AdaBoostClassifier\n",
    "from sklearn.ensemble import BaggingClassifier\n",
    "from sklearn.neural_network import MLPClassifier\n",
    "\n",
    "#Libs de Métricas\n",
    "from sklearn.metrics import classification_report\n",
    "from sklearn.metrics import confusion_matrix\n",
    "from sklearn.metrics import f1_score"
   ]
  },
  {
   "cell_type": "markdown",
   "id": "loaded-account",
   "metadata": {},
   "source": [
    "# 1. Coleta de Dados e Análise Inicial"
   ]
  },
  {
   "cell_type": "code",
   "execution_count": 3,
   "id": "revised-railway",
   "metadata": {},
   "outputs": [
    {
     "data": {
      "text/html": [
       "<div>\n",
       "<style scoped>\n",
       "    .dataframe tbody tr th:only-of-type {\n",
       "        vertical-align: middle;\n",
       "    }\n",
       "\n",
       "    .dataframe tbody tr th {\n",
       "        vertical-align: top;\n",
       "    }\n",
       "\n",
       "    .dataframe thead th {\n",
       "        text-align: right;\n",
       "    }\n",
       "</style>\n",
       "<table border=\"1\" class=\"dataframe\">\n",
       "  <thead>\n",
       "    <tr style=\"text-align: right;\">\n",
       "      <th></th>\n",
       "      <th>SMS</th>\n",
       "      <th>LABEL</th>\n",
       "    </tr>\n",
       "  </thead>\n",
       "  <tbody>\n",
       "    <tr>\n",
       "      <th>0</th>\n",
       "      <td>BOLETO REFERENTE AS PARCELAS EM ATRASO DO CONS...</td>\n",
       "      <td>blocked</td>\n",
       "    </tr>\n",
       "    <tr>\n",
       "      <th>1</th>\n",
       "      <td>050003DA0202|lcloud-apple-lnc.com/?iphone=VtBq...</td>\n",
       "      <td>blocked</td>\n",
       "    </tr>\n",
       "    <tr>\n",
       "      <th>2</th>\n",
       "      <td>060804CB5F0303|ps: //bancodobrasil.seguranca.gq</td>\n",
       "      <td>blocked</td>\n",
       "    </tr>\n",
       "    <tr>\n",
       "      <th>3</th>\n",
       "      <td>Atualizacao ainda nao foi executado em sua con...</td>\n",
       "      <td>blocked</td>\n",
       "    </tr>\n",
       "    <tr>\n",
       "      <th>4</th>\n",
       "      <td>0608042BE40303|ps://bancodobrasil.seguranca.cf/</td>\n",
       "      <td>blocked</td>\n",
       "    </tr>\n",
       "  </tbody>\n",
       "</table>\n",
       "</div>"
      ],
      "text/plain": [
       "                                                 SMS    LABEL\n",
       "0  BOLETO REFERENTE AS PARCELAS EM ATRASO DO CONS...  blocked\n",
       "1  050003DA0202|lcloud-apple-lnc.com/?iphone=VtBq...  blocked\n",
       "2    060804CB5F0303|ps: //bancodobrasil.seguranca.gq  blocked\n",
       "3  Atualizacao ainda nao foi executado em sua con...  blocked\n",
       "4    0608042BE40303|ps://bancodobrasil.seguranca.cf/  blocked"
      ]
     },
     "execution_count": 3,
     "metadata": {},
     "output_type": "execute_result"
    }
   ],
   "source": [
    "#Carregamento de dados de treinamento\n",
    "df = pd.read_csv(\"Resources/train_data.csv\", encoding='utf-8')\n",
    "df.head()"
   ]
  },
  {
   "cell_type": "code",
   "execution_count": 4,
   "id": "photographic-pound",
   "metadata": {},
   "outputs": [
    {
     "data": {
      "text/html": [
       "<div>\n",
       "<style scoped>\n",
       "    .dataframe tbody tr th:only-of-type {\n",
       "        vertical-align: middle;\n",
       "    }\n",
       "\n",
       "    .dataframe tbody tr th {\n",
       "        vertical-align: top;\n",
       "    }\n",
       "\n",
       "    .dataframe thead th {\n",
       "        text-align: right;\n",
       "    }\n",
       "</style>\n",
       "<table border=\"1\" class=\"dataframe\">\n",
       "  <thead>\n",
       "    <tr style=\"text-align: right;\">\n",
       "      <th></th>\n",
       "      <th>SMS</th>\n",
       "    </tr>\n",
       "  </thead>\n",
       "  <tbody>\n",
       "    <tr>\n",
       "      <th>0</th>\n",
       "      <td>BB informa:Prezado cliente suas senhas de ACES...</td>\n",
       "    </tr>\n",
       "    <tr>\n",
       "      <th>1</th>\n",
       "      <td>BB informa:Prezado cliente suas senhas de ACES...</td>\n",
       "    </tr>\n",
       "    <tr>\n",
       "      <th>2</th>\n",
       "      <td>BB informa:Prezado cliente suas senhas de ACES...</td>\n",
       "    </tr>\n",
       "    <tr>\n",
       "      <th>3</th>\n",
       "      <td>Node Warning: SFRO01H000001.call.br Warning em...</td>\n",
       "    </tr>\n",
       "    <tr>\n",
       "      <th>4</th>\n",
       "      <td>BB informa:Prezado cliente suas senhas de ACES...</td>\n",
       "    </tr>\n",
       "  </tbody>\n",
       "</table>\n",
       "</div>"
      ],
      "text/plain": [
       "                                                 SMS\n",
       "0  BB informa:Prezado cliente suas senhas de ACES...\n",
       "1  BB informa:Prezado cliente suas senhas de ACES...\n",
       "2  BB informa:Prezado cliente suas senhas de ACES...\n",
       "3  Node Warning: SFRO01H000001.call.br Warning em...\n",
       "4  BB informa:Prezado cliente suas senhas de ACES..."
      ]
     },
     "execution_count": 4,
     "metadata": {},
     "output_type": "execute_result"
    }
   ],
   "source": [
    "#Carregamento de dados de validação\n",
    "df_va = pd.read_csv(\"Resources/validation_data.csv\", encoding='utf-8')\n",
    "df_va.head()"
   ]
  },
  {
   "cell_type": "code",
   "execution_count": 5,
   "id": "surprising-agent",
   "metadata": {},
   "outputs": [
    {
     "data": {
      "text/plain": [
       "6000"
      ]
     },
     "execution_count": 5,
     "metadata": {},
     "output_type": "execute_result"
    }
   ],
   "source": [
    "#Quantidade de comentários\n",
    "df.shape[0]"
   ]
  },
  {
   "cell_type": "code",
   "execution_count": 6,
   "id": "surface-belle",
   "metadata": {},
   "outputs": [
    {
     "data": {
      "text/plain": [
       "array(['blocked', 'ok'], dtype=object)"
      ]
     },
     "execution_count": 6,
     "metadata": {},
     "output_type": "execute_result"
    }
   ],
   "source": [
    "#Rótulos encontrados\n",
    "df['LABEL'].unique()"
   ]
  },
  {
   "cell_type": "code",
   "execution_count": 7,
   "id": "incorrect-spirit",
   "metadata": {},
   "outputs": [
    {
     "data": {
      "text/plain": [
       "False"
      ]
     },
     "execution_count": 7,
     "metadata": {},
     "output_type": "execute_result"
    }
   ],
   "source": [
    "#Verifica se existem dados faltante\n",
    "df.isnull().values.any()"
   ]
  },
  {
   "cell_type": "code",
   "execution_count": 8,
   "id": "excess-kuwait",
   "metadata": {},
   "outputs": [
    {
     "data": {
      "text/plain": [
       "ok         4500\n",
       "blocked    1500\n",
       "Name: LABEL, dtype: int64"
      ]
     },
     "execution_count": 8,
     "metadata": {},
     "output_type": "execute_result"
    }
   ],
   "source": [
    "#Verifica o balanceamento das classes\n",
    "df['LABEL'].value_counts()"
   ]
  },
  {
   "cell_type": "markdown",
   "id": "surprising-resident",
   "metadata": {},
   "source": [
    "# 2. Análise Exploratória de Dados"
   ]
  },
  {
   "cell_type": "markdown",
   "id": "connected-irrigation",
   "metadata": {},
   "source": [
    "### Visualização da distribuição de comentários"
   ]
  },
  {
   "cell_type": "code",
   "execution_count": 9,
   "id": "single-ready",
   "metadata": {},
   "outputs": [
    {
     "data": {
      "image/png": "[encoded data removed]",
      "text/plain": [
       "<Figure size 432x288 with 1 Axes>"
      ]
     },
     "metadata": {},
     "output_type": "display_data"
    }
   ],
   "source": [
    "#Rótulos das classes\n",
    "countLabel = np.array([df['LABEL'].value_counts()[0], df['LABEL'].value_counts()[1]])\n",
    "\n",
    "#Nome dos rótulos\n",
    "nameLabels = [\"ok\", \"blocked\"]\n",
    "\n",
    "#Mostra o gráfico de pizza\n",
    "plt.pie(countLabel, labels = nameLabels, autopct='%1.2f%%')\n",
    "plt.show() "
   ]
  },
  {
   "cell_type": "markdown",
   "id": "attractive-mistress",
   "metadata": {},
   "source": [
    "- Nossos padrões estão desbalanceados, logo valores de métricas como a taxa de acerto não é eficaz para uma avaliação segura. \n",
    "- Para contornar o desbalanceamento, podemos utilizar modelos de reamostragem. "
   ]
  },
  {
   "cell_type": "markdown",
   "id": "entire-belfast",
   "metadata": {},
   "source": [
    "**Métodos para lidar com datasets desbalanceados**\n",
    "- Over-sampling: cria novas observações da classe minoritária a partir das informações contidas nos dados originais. ...\n",
    "- Under-sampling: reduz o desbalanceamento do dataset focando na classe majoritária."
   ]
  },
  {
   "cell_type": "markdown",
   "id": "secret-amsterdam",
   "metadata": {},
   "source": [
    "### Verificação de padrões"
   ]
  },
  {
   "cell_type": "code",
   "execution_count": 10,
   "id": "referenced-furniture",
   "metadata": {},
   "outputs": [
    {
     "data": {
      "text/html": [
       "<div>\n",
       "<style scoped>\n",
       "    .dataframe tbody tr th:only-of-type {\n",
       "        vertical-align: middle;\n",
       "    }\n",
       "\n",
       "    .dataframe tbody tr th {\n",
       "        vertical-align: top;\n",
       "    }\n",
       "\n",
       "    .dataframe thead th {\n",
       "        text-align: right;\n",
       "    }\n",
       "</style>\n",
       "<table border=\"1\" class=\"dataframe\">\n",
       "  <thead>\n",
       "    <tr style=\"text-align: right;\">\n",
       "      <th></th>\n",
       "      <th>SMS</th>\n",
       "      <th>LABEL</th>\n",
       "    </tr>\n",
       "  </thead>\n",
       "  <tbody>\n",
       "    <tr>\n",
       "      <th>1500</th>\n",
       "      <td>recuperamos seu usuario e senha de acesso no i...</td>\n",
       "      <td>ok</td>\n",
       "    </tr>\n",
       "    <tr>\n",
       "      <th>1501</th>\n",
       "      <td>recuperamos seu usuario e senha de acesso no i...</td>\n",
       "      <td>ok</td>\n",
       "    </tr>\n",
       "    <tr>\n",
       "      <th>1502</th>\n",
       "      <td>MARSH CORRETORA: Felipe, boleto parc. 01 do Se...</td>\n",
       "      <td>ok</td>\n",
       "    </tr>\n",
       "    <tr>\n",
       "      <th>1503</th>\n",
       "      <td>MARSH CORRETORA: Felipe, boleto parc. 01 do Se...</td>\n",
       "      <td>ok</td>\n",
       "    </tr>\n",
       "    <tr>\n",
       "      <th>1504</th>\n",
       "      <td>MARSH CORRETORA: Anna, boleto parc. 01 do Seg ...</td>\n",
       "      <td>ok</td>\n",
       "    </tr>\n",
       "    <tr>\n",
       "      <th>...</th>\n",
       "      <td>...</td>\n",
       "      <td>...</td>\n",
       "    </tr>\n",
       "    <tr>\n",
       "      <th>5995</th>\n",
       "      <td>Host : RB_Bicanga Ip: 170.244.231.14 nao esta ...</td>\n",
       "      <td>ok</td>\n",
       "    </tr>\n",
       "    <tr>\n",
       "      <th>5996</th>\n",
       "      <td>Host : RB§Bicanga Ip: 170.244.231.14 nao esta ...</td>\n",
       "      <td>ok</td>\n",
       "    </tr>\n",
       "    <tr>\n",
       "      <th>5997</th>\n",
       "      <td>Host : RB§Bicanga Ip: 170.244.231.14 nao esta ...</td>\n",
       "      <td>ok</td>\n",
       "    </tr>\n",
       "    <tr>\n",
       "      <th>5998</th>\n",
       "      <td>Host : RB_Bicanga Ip: 170.244.231.14 nao esta ...</td>\n",
       "      <td>ok</td>\n",
       "    </tr>\n",
       "    <tr>\n",
       "      <th>5999</th>\n",
       "      <td>050003730201|Faça login no aplicativo OlympTra...</td>\n",
       "      <td>ok</td>\n",
       "    </tr>\n",
       "  </tbody>\n",
       "</table>\n",
       "<p>4500 rows × 2 columns</p>\n",
       "</div>"
      ],
      "text/plain": [
       "                                                    SMS LABEL\n",
       "1500  recuperamos seu usuario e senha de acesso no i...    ok\n",
       "1501  recuperamos seu usuario e senha de acesso no i...    ok\n",
       "1502  MARSH CORRETORA: Felipe, boleto parc. 01 do Se...    ok\n",
       "1503  MARSH CORRETORA: Felipe, boleto parc. 01 do Se...    ok\n",
       "1504  MARSH CORRETORA: Anna, boleto parc. 01 do Seg ...    ok\n",
       "...                                                 ...   ...\n",
       "5995  Host : RB_Bicanga Ip: 170.244.231.14 nao esta ...    ok\n",
       "5996  Host : RB§Bicanga Ip: 170.244.231.14 nao esta ...    ok\n",
       "5997  Host : RB§Bicanga Ip: 170.244.231.14 nao esta ...    ok\n",
       "5998  Host : RB_Bicanga Ip: 170.244.231.14 nao esta ...    ok\n",
       "5999  050003730201|Faça login no aplicativo OlympTra...    ok\n",
       "\n",
       "[4500 rows x 2 columns]"
      ]
     },
     "execution_count": 10,
     "metadata": {},
     "output_type": "execute_result"
    }
   ],
   "source": [
    "#Verifica padrões ok\n",
    "df[df['LABEL'] == 'ok']"
   ]
  },
  {
   "cell_type": "code",
   "execution_count": 11,
   "id": "wound-associate",
   "metadata": {},
   "outputs": [
    {
     "data": {
      "text/html": [
       "<div>\n",
       "<style scoped>\n",
       "    .dataframe tbody tr th:only-of-type {\n",
       "        vertical-align: middle;\n",
       "    }\n",
       "\n",
       "    .dataframe tbody tr th {\n",
       "        vertical-align: top;\n",
       "    }\n",
       "\n",
       "    .dataframe thead th {\n",
       "        text-align: right;\n",
       "    }\n",
       "</style>\n",
       "<table border=\"1\" class=\"dataframe\">\n",
       "  <thead>\n",
       "    <tr style=\"text-align: right;\">\n",
       "      <th></th>\n",
       "      <th>SMS</th>\n",
       "      <th>LABEL</th>\n",
       "    </tr>\n",
       "  </thead>\n",
       "  <tbody>\n",
       "    <tr>\n",
       "      <th>0</th>\n",
       "      <td>BOLETO REFERENTE AS PARCELAS EM ATRASO DO CONS...</td>\n",
       "      <td>blocked</td>\n",
       "    </tr>\n",
       "    <tr>\n",
       "      <th>1</th>\n",
       "      <td>050003DA0202|lcloud-apple-lnc.com/?iphone=VtBq...</td>\n",
       "      <td>blocked</td>\n",
       "    </tr>\n",
       "    <tr>\n",
       "      <th>2</th>\n",
       "      <td>060804CB5F0303|ps: //bancodobrasil.seguranca.gq</td>\n",
       "      <td>blocked</td>\n",
       "    </tr>\n",
       "    <tr>\n",
       "      <th>3</th>\n",
       "      <td>Atualizacao ainda nao foi executado em sua con...</td>\n",
       "      <td>blocked</td>\n",
       "    </tr>\n",
       "    <tr>\n",
       "      <th>4</th>\n",
       "      <td>0608042BE40303|ps://bancodobrasil.seguranca.cf/</td>\n",
       "      <td>blocked</td>\n",
       "    </tr>\n",
       "    <tr>\n",
       "      <th>...</th>\n",
       "      <td>...</td>\n",
       "      <td>...</td>\n",
       "    </tr>\n",
       "    <tr>\n",
       "      <th>1495</th>\n",
       "      <td>BB INFORMA:VALIDE SUA SENHA E EVITE TRANSTORNO...</td>\n",
       "      <td>blocked</td>\n",
       "    </tr>\n",
       "    <tr>\n",
       "      <th>1496</th>\n",
       "      <td>BB INFORMA:VALIDE SUA SENHA E EVITE TRANSTORNO...</td>\n",
       "      <td>blocked</td>\n",
       "    </tr>\n",
       "    <tr>\n",
       "      <th>1497</th>\n",
       "      <td>BB INFORMA:VALIDE SUA SENHA E EVITE TRANSTORNO...</td>\n",
       "      <td>blocked</td>\n",
       "    </tr>\n",
       "    <tr>\n",
       "      <th>1498</th>\n",
       "      <td>BB INFORMA:VALIDE SUA SENHA E EVITE TRANSTORNO...</td>\n",
       "      <td>blocked</td>\n",
       "    </tr>\n",
       "    <tr>\n",
       "      <th>1499</th>\n",
       "      <td>BB INFORMA:VALIDE SUA SENHA E EVITE TRANSTORNO...</td>\n",
       "      <td>blocked</td>\n",
       "    </tr>\n",
       "  </tbody>\n",
       "</table>\n",
       "<p>1500 rows × 2 columns</p>\n",
       "</div>"
      ],
      "text/plain": [
       "                                                    SMS    LABEL\n",
       "0     BOLETO REFERENTE AS PARCELAS EM ATRASO DO CONS...  blocked\n",
       "1     050003DA0202|lcloud-apple-lnc.com/?iphone=VtBq...  blocked\n",
       "2       060804CB5F0303|ps: //bancodobrasil.seguranca.gq  blocked\n",
       "3     Atualizacao ainda nao foi executado em sua con...  blocked\n",
       "4       0608042BE40303|ps://bancodobrasil.seguranca.cf/  blocked\n",
       "...                                                 ...      ...\n",
       "1495  BB INFORMA:VALIDE SUA SENHA E EVITE TRANSTORNO...  blocked\n",
       "1496  BB INFORMA:VALIDE SUA SENHA E EVITE TRANSTORNO...  blocked\n",
       "1497  BB INFORMA:VALIDE SUA SENHA E EVITE TRANSTORNO...  blocked\n",
       "1498  BB INFORMA:VALIDE SUA SENHA E EVITE TRANSTORNO...  blocked\n",
       "1499  BB INFORMA:VALIDE SUA SENHA E EVITE TRANSTORNO...  blocked\n",
       "\n",
       "[1500 rows x 2 columns]"
      ]
     },
     "execution_count": 11,
     "metadata": {},
     "output_type": "execute_result"
    }
   ],
   "source": [
    "#Verifica padrões bloqueados\n",
    "df[df['LABEL'] == 'blocked']"
   ]
  },
  {
   "cell_type": "markdown",
   "id": "million-stylus",
   "metadata": {},
   "source": [
    "Coluna **LABEL** precisa ser transformada para um valor número, e coluna **SMS** precisa ser vetorizados"
   ]
  },
  {
   "cell_type": "markdown",
   "id": "turned-tsunami",
   "metadata": {},
   "source": [
    "# 3. Modelagem e Aplicação de ML"
   ]
  },
  {
   "cell_type": "markdown",
   "id": "short-packet",
   "metadata": {},
   "source": [
    "Vamos verifica a eficiência do modelo considerando somente a coluna **LABEL**"
   ]
  },
  {
   "cell_type": "markdown",
   "id": "romantic-beast",
   "metadata": {},
   "source": [
    "### Modelagem"
   ]
  },
  {
   "cell_type": "code",
   "execution_count": 12,
   "id": "assigned-youth",
   "metadata": {},
   "outputs": [],
   "source": [
    "#Muda os rotulos para valores numéricos\n",
    "df['LABEL_VALUE'] = df['LABEL'].map({'ok':0, 'blocked':1})"
   ]
  },
  {
   "cell_type": "code",
   "execution_count": 15,
   "id": "racial-patrol",
   "metadata": {},
   "outputs": [
    {
     "data": {
      "text/plain": [
       "((4800,), (1200,), (4800,), (1200,))"
      ]
     },
     "execution_count": 15,
     "metadata": {},
     "output_type": "execute_result"
    }
   ],
   "source": [
    "#Separação em teste e treino\n",
    "X_train, X_test, y_train, y_test = train_test_split(df['SMS'], df['LABEL_VALUE'], test_size=0.20, random_state=42)\n",
    "X_train.shape, X_test.shape, y_train.shape, y_test.shape"
   ]
  },
  {
   "cell_type": "markdown",
   "id": "magnetic-terminology",
   "metadata": {},
   "source": [
    "Foi considerado somente o dataset **train_data.csv** para separação de dados de treinamento e teste. Foi modelado com 80% dos dados de treinamento e 20% com os dados de teste"
   ]
  },
  {
   "cell_type": "code",
   "execution_count": 16,
   "id": "medium-context",
   "metadata": {},
   "outputs": [
    {
     "data": {
      "text/plain": [
       "((4800, 6518), (1200, 6518))"
      ]
     },
     "execution_count": 16,
     "metadata": {},
     "output_type": "execute_result"
    }
   ],
   "source": [
    "#Instância o modelo CountVectorizer\n",
    "vectorizer = CountVectorizer(lowercase=True, stop_words=stopwords.words('portuguese'))\n",
    "\n",
    "#Aplica o modelo\n",
    "X_train_vect = vectorizer.fit_transform(X_train)\n",
    "X_test_vect = vectorizer.transform(X_test)\n",
    "\n",
    "#Mostra as dimensões\n",
    "X_train_vect.shape, X_test_vect.shape"
   ]
  },
  {
   "cell_type": "markdown",
   "id": "incorporated-release",
   "metadata": {},
   "source": [
    "### Aplicação de ML"
   ]
  },
  {
   "cell_type": "code",
   "execution_count": 75,
   "id": "baking-sherman",
   "metadata": {},
   "outputs": [],
   "source": [
    "#Algoritmos utilizados na análise\n",
    "classifiers = [\n",
    "    KNeighborsClassifier(),\n",
    "    SVC(gamma='scale'),\n",
    "    LogisticRegression(solver='lbfgs'),\n",
    "    BaggingClassifier(),\n",
    "    DecisionTreeClassifier(),\n",
    "    RandomForestClassifier(n_estimators=100),\n",
    "    MLPClassifier(),\n",
    "    AdaBoostClassifier(),\n",
    "    MultinomialNB()]\n",
    "\n",
    "#Nomes dos algoritmos\n",
    "names = [\"Nearest Neighbors\", \"SVM\", \"LogisticRegression\", \"BaggingClassifier\", \"Decision Tree\", \"Random Forest\", \"MLP\", \"AdaBoost\", \"Naive Bayes\"]"
   ]
  },
  {
   "cell_type": "code",
   "execution_count": 76,
   "id": "spatial-hardware",
   "metadata": {},
   "outputs": [],
   "source": [
    "#Salva as informações\n",
    "scores = []\n",
    "\n",
    "#Aplicação dos modelos\n",
    "for name, model in zip(names, classifiers):\n",
    "    \n",
    "    #Treina\n",
    "    model.fit(X_train_vect, y_train)\n",
    "    \n",
    "    #Prediz\n",
    "    predict = model.predict(X_test_vect)\n",
    "    \n",
    "    #Métrica de avalização\n",
    "    score = f1_score(y_test, predict)\n",
    "    \n",
    "    #Salva a métrica de avaliação\n",
    "    scores.append(score)"
   ]
  },
  {
   "cell_type": "markdown",
   "id": "strange-skating",
   "metadata": {},
   "source": [
    "### Avaliação de métricas de treinamento"
   ]
  },
  {
   "cell_type": "code",
   "execution_count": 77,
   "id": "guilty-yukon",
   "metadata": {},
   "outputs": [
    {
     "data": {
      "text/html": [
       "<div>\n",
       "<style scoped>\n",
       "    .dataframe tbody tr th:only-of-type {\n",
       "        vertical-align: middle;\n",
       "    }\n",
       "\n",
       "    .dataframe tbody tr th {\n",
       "        vertical-align: top;\n",
       "    }\n",
       "\n",
       "    .dataframe thead th {\n",
       "        text-align: right;\n",
       "    }\n",
       "</style>\n",
       "<table border=\"1\" class=\"dataframe\">\n",
       "  <thead>\n",
       "    <tr style=\"text-align: right;\">\n",
       "      <th></th>\n",
       "      <th>f1_score</th>\n",
       "    </tr>\n",
       "  </thead>\n",
       "  <tbody>\n",
       "    <tr>\n",
       "      <th>Nearest Neighbors</th>\n",
       "      <td>0.966226</td>\n",
       "    </tr>\n",
       "    <tr>\n",
       "      <th>Naive Bayes</th>\n",
       "      <td>0.986547</td>\n",
       "    </tr>\n",
       "    <tr>\n",
       "      <th>AdaBoost</th>\n",
       "      <td>0.989313</td>\n",
       "    </tr>\n",
       "    <tr>\n",
       "      <th>BaggingClassifier</th>\n",
       "      <td>0.990881</td>\n",
       "    </tr>\n",
       "    <tr>\n",
       "      <th>Decision Tree</th>\n",
       "      <td>0.990881</td>\n",
       "    </tr>\n",
       "    <tr>\n",
       "      <th>SVM</th>\n",
       "      <td>0.992390</td>\n",
       "    </tr>\n",
       "    <tr>\n",
       "      <th>LogisticRegression</th>\n",
       "      <td>0.992390</td>\n",
       "    </tr>\n",
       "    <tr>\n",
       "      <th>Random Forest</th>\n",
       "      <td>0.995448</td>\n",
       "    </tr>\n",
       "    <tr>\n",
       "      <th>MLP</th>\n",
       "      <td>0.998487</td>\n",
       "    </tr>\n",
       "  </tbody>\n",
       "</table>\n",
       "</div>"
      ],
      "text/plain": [
       "                    f1_score\n",
       "Nearest Neighbors   0.966226\n",
       "Naive Bayes         0.986547\n",
       "AdaBoost            0.989313\n",
       "BaggingClassifier   0.990881\n",
       "Decision Tree       0.990881\n",
       "SVM                 0.992390\n",
       "LogisticRegression  0.992390\n",
       "Random Forest       0.995448\n",
       "MLP                 0.998487"
      ]
     },
     "execution_count": 77,
     "metadata": {},
     "output_type": "execute_result"
    }
   ],
   "source": [
    "#Avaliação de métricas de treinamento\n",
    "metrics_inicial_train = pd.DataFrame(data = scores, index = names, columns = ['f1_score']).sort_values(by='f1_score')\n",
    "metrics_inicial_train"
   ]
  },
  {
   "cell_type": "markdown",
   "id": "brilliant-indie",
   "metadata": {},
   "source": [
    "Os modelo **Decision Tree, Random Forest e MLP** foram os mais eficientes na etapa de treinamento e teste do conjunto de treinamento. Irei escolher o método **MLP** para prever o dataset de avaliação"
   ]
  },
  {
   "cell_type": "markdown",
   "id": "surrounded-sound",
   "metadata": {},
   "source": [
    "### Avaliação de métricas do dataset de avaliação"
   ]
  },
  {
   "cell_type": "code",
   "execution_count": 78,
   "id": "pharmaceutical-leisure",
   "metadata": {},
   "outputs": [],
   "source": [
    "#Treinar movamente o modelo escolhido\n",
    "model = MLPClassifier()\n",
    "\n",
    "#Treina\n",
    "model.fit(X_train_vect, y_train)\n",
    "    \n",
    "#Prediz\n",
    "predict = model.predict(X_test_vect_aval)"
   ]
  },
  {
   "cell_type": "code",
   "execution_count": 81,
   "id": "after-visiting",
   "metadata": {},
   "outputs": [
    {
     "data": {
      "text/html": [
       "<div>\n",
       "<style scoped>\n",
       "    .dataframe tbody tr th:only-of-type {\n",
       "        vertical-align: middle;\n",
       "    }\n",
       "\n",
       "    .dataframe tbody tr th {\n",
       "        vertical-align: top;\n",
       "    }\n",
       "\n",
       "    .dataframe thead th {\n",
       "        text-align: right;\n",
       "    }\n",
       "</style>\n",
       "<table border=\"1\" class=\"dataframe\">\n",
       "  <thead>\n",
       "    <tr style=\"text-align: right;\">\n",
       "      <th></th>\n",
       "      <th>0</th>\n",
       "    </tr>\n",
       "  </thead>\n",
       "  <tbody>\n",
       "    <tr>\n",
       "      <th>0</th>\n",
       "      <td>1</td>\n",
       "    </tr>\n",
       "    <tr>\n",
       "      <th>1</th>\n",
       "      <td>1</td>\n",
       "    </tr>\n",
       "    <tr>\n",
       "      <th>2</th>\n",
       "      <td>1</td>\n",
       "    </tr>\n",
       "    <tr>\n",
       "      <th>3</th>\n",
       "      <td>0</td>\n",
       "    </tr>\n",
       "    <tr>\n",
       "      <th>4</th>\n",
       "      <td>1</td>\n",
       "    </tr>\n",
       "    <tr>\n",
       "      <th>...</th>\n",
       "      <td>...</td>\n",
       "    </tr>\n",
       "    <tr>\n",
       "      <th>1995</th>\n",
       "      <td>0</td>\n",
       "    </tr>\n",
       "    <tr>\n",
       "      <th>1996</th>\n",
       "      <td>0</td>\n",
       "    </tr>\n",
       "    <tr>\n",
       "      <th>1997</th>\n",
       "      <td>0</td>\n",
       "    </tr>\n",
       "    <tr>\n",
       "      <th>1998</th>\n",
       "      <td>0</td>\n",
       "    </tr>\n",
       "    <tr>\n",
       "      <th>1999</th>\n",
       "      <td>0</td>\n",
       "    </tr>\n",
       "  </tbody>\n",
       "</table>\n",
       "<p>2000 rows × 1 columns</p>\n",
       "</div>"
      ],
      "text/plain": [
       "      0\n",
       "0     1\n",
       "1     1\n",
       "2     1\n",
       "3     0\n",
       "4     1\n",
       "...  ..\n",
       "1995  0\n",
       "1996  0\n",
       "1997  0\n",
       "1998  0\n",
       "1999  0\n",
       "\n",
       "[2000 rows x 1 columns]"
      ]
     },
     "execution_count": 81,
     "metadata": {},
     "output_type": "execute_result"
    }
   ],
   "source": [
    "#Transforma em tabela o valor predito\n",
    "SMS_av = pd.DataFrame(predict)\n",
    "SMS_av"
   ]
  },
  {
   "cell_type": "code",
   "execution_count": 84,
   "id": "uniform-knight",
   "metadata": {},
   "outputs": [
    {
     "data": {
      "text/html": [
       "<div>\n",
       "<style scoped>\n",
       "    .dataframe tbody tr th:only-of-type {\n",
       "        vertical-align: middle;\n",
       "    }\n",
       "\n",
       "    .dataframe tbody tr th {\n",
       "        vertical-align: top;\n",
       "    }\n",
       "\n",
       "    .dataframe thead th {\n",
       "        text-align: right;\n",
       "    }\n",
       "</style>\n",
       "<table border=\"1\" class=\"dataframe\">\n",
       "  <thead>\n",
       "    <tr style=\"text-align: right;\">\n",
       "      <th></th>\n",
       "      <th>SMS</th>\n",
       "      <th>0</th>\n",
       "    </tr>\n",
       "  </thead>\n",
       "  <tbody>\n",
       "    <tr>\n",
       "      <th>0</th>\n",
       "      <td>BB informa:Prezado cliente suas senhas de ACES...</td>\n",
       "      <td>1</td>\n",
       "    </tr>\n",
       "    <tr>\n",
       "      <th>1</th>\n",
       "      <td>BB informa:Prezado cliente suas senhas de ACES...</td>\n",
       "      <td>1</td>\n",
       "    </tr>\n",
       "    <tr>\n",
       "      <th>2</th>\n",
       "      <td>BB informa:Prezado cliente suas senhas de ACES...</td>\n",
       "      <td>1</td>\n",
       "    </tr>\n",
       "    <tr>\n",
       "      <th>3</th>\n",
       "      <td>Node Warning: SFRO01H000001.call.br Warning em...</td>\n",
       "      <td>0</td>\n",
       "    </tr>\n",
       "    <tr>\n",
       "      <th>4</th>\n",
       "      <td>BB informa:Prezado cliente suas senhas de ACES...</td>\n",
       "      <td>1</td>\n",
       "    </tr>\n",
       "    <tr>\n",
       "      <th>...</th>\n",
       "      <td>...</td>\n",
       "      <td>...</td>\n",
       "    </tr>\n",
       "    <tr>\n",
       "      <th>1995</th>\n",
       "      <td>Faça login no aplicativo OlympTrad?: 179.240.1...</td>\n",
       "      <td>0</td>\n",
       "    </tr>\n",
       "    <tr>\n",
       "      <th>1996</th>\n",
       "      <td>Faça login no aplicativo OlympTrad?: 179.240.1...</td>\n",
       "      <td>0</td>\n",
       "    </tr>\n",
       "    <tr>\n",
       "      <th>1997</th>\n",
       "      <td>bitnuvem.com: Identificamos acesso do IP 179.2...</td>\n",
       "      <td>0</td>\n",
       "    </tr>\n",
       "    <tr>\n",
       "      <th>1998</th>\n",
       "      <td>enter\u0011in\u0011application: 179.240.169.116, BR, For...</td>\n",
       "      <td>0</td>\n",
       "    </tr>\n",
       "    <tr>\n",
       "      <th>1999</th>\n",
       "      <td>Faça login no aplicativo OlympTrad?: 179.240.1...</td>\n",
       "      <td>0</td>\n",
       "    </tr>\n",
       "  </tbody>\n",
       "</table>\n",
       "<p>2000 rows × 2 columns</p>\n",
       "</div>"
      ],
      "text/plain": [
       "                                                    SMS  0\n",
       "0     BB informa:Prezado cliente suas senhas de ACES...  1\n",
       "1     BB informa:Prezado cliente suas senhas de ACES...  1\n",
       "2     BB informa:Prezado cliente suas senhas de ACES...  1\n",
       "3     Node Warning: SFRO01H000001.call.br Warning em...  0\n",
       "4     BB informa:Prezado cliente suas senhas de ACES...  1\n",
       "...                                                 ... ..\n",
       "1995  Faça login no aplicativo OlympTrad?: 179.240.1...  0\n",
       "1996  Faça login no aplicativo OlympTrad?: 179.240.1...  0\n",
       "1997  bitnuvem.com: Identificamos acesso do IP 179.2...  0\n",
       "1998  enter\u0011in\u0011application: 179.240.169.116, BR, For...  0\n",
       "1999  Faça login no aplicativo OlympTrad?: 179.240.1...  0\n",
       "\n",
       "[2000 rows x 2 columns]"
      ]
     },
     "execution_count": 84,
     "metadata": {},
     "output_type": "execute_result"
    }
   ],
   "source": [
    "#Concatena as duas colunas\n",
    "df_val = pd.concat([df_va['SMS'], SMS_av], axis=1)\n",
    "df_val"
   ]
  },
  {
   "cell_type": "code",
   "execution_count": 86,
   "id": "surprising-wales",
   "metadata": {},
   "outputs": [],
   "source": [
    "#Salva os valores em um arquivo CSV\n",
    "df_val.to_csv('Resources/validation_data_com_LABEL.csv')"
   ]
  },
  {
   "cell_type": "markdown",
   "id": "complex-revelation",
   "metadata": {},
   "source": [
    "Com isso, fazendo um modelo que consegue detectar spams em mensagens de e-mail"
   ]
  },
  {
   "cell_type": "markdown",
   "id": "aggressive-nickname",
   "metadata": {},
   "source": [
    "Vamos analisar se o modelo pode performar melhor com a extração de caracteristicas"
   ]
  },
  {
   "cell_type": "markdown",
   "id": "compound-northeast",
   "metadata": {},
   "source": [
    "# 4. Busca de otimização"
   ]
  },
  {
   "cell_type": "markdown",
   "id": "mighty-excitement",
   "metadata": {},
   "source": [
    "### Cria caracteristicas particulares dos padrões"
   ]
  },
  {
   "cell_type": "code",
   "execution_count": null,
   "id": "false-helen",
   "metadata": {},
   "outputs": [],
   "source": [
    "#Número de caracteres de cada padrão\n",
    "df['LENGTH'] = df['SMS'].apply(len)\n",
    "df.head()"
   ]
  },
  {
   "cell_type": "code",
   "execution_count": null,
   "id": "spanish-drunk",
   "metadata": {},
   "outputs": [],
   "source": [
    "#Média de tamanho de caracteres de cada classe\n",
    "Y = [df[df['LABEL'] == 'ok']['LENGTH'].mean(), df[df['LABEL'] == 'blocked']['LENGTH'].mean()]\n",
    "\n",
    "#Apresentação\n",
    "print('Média de tamanho de caracteres de cada classe')\n",
    "print('Classe ok :', round(Y[0]))\n",
    "print('Classe blocked :', round(Y[1]))"
   ]
  },
  {
   "cell_type": "code",
   "execution_count": null,
   "id": "current-testimony",
   "metadata": {},
   "outputs": [],
   "source": [
    "#Captura as palavras em caixa alta\n",
    "def up_low(s):\n",
    "    upper_case_count = 0\n",
    "    lower_case_count = 0\n",
    "\n",
    "    split_s = s.split()\n",
    "\n",
    "    for word in split_s:\n",
    "\n",
    "        if word.islower() == False:\n",
    "            upper_case_count +=1\n",
    "            lower_case_count += len(word) - 1\n",
    "        elif word.islower() == True:\n",
    "            letter_count = len(word)\n",
    "            lower_case_count += letter_count\n",
    "            \n",
    "    return upper_case_count"
   ]
  },
  {
   "cell_type": "code",
   "execution_count": null,
   "id": "varying-talent",
   "metadata": {},
   "outputs": [],
   "source": [
    "#Cria variável de número de palavras em caixa alta\n",
    "df['UPPER_WORD'] = df['SMS'].apply(up_low)\n",
    "df.head()"
   ]
  },
  {
   "cell_type": "code",
   "execution_count": null,
   "id": "variable-woman",
   "metadata": {},
   "outputs": [],
   "source": [
    "#Média da quantidade de palavras em caixa alta de cada classe\n",
    "Y = [df[df['LABEL'] == 'ok']['UPPER_WORD'].mean(), df[df['LABEL'] == 'blocked']['UPPER_WORD'].mean()]\n",
    "\n",
    "#Apresentação\n",
    "print('Média da quantidade de palavras em caixa alta de cada classe')\n",
    "print('Classe ok :', round(Y[0]))\n",
    "print('Classe blocked :', round(Y[1]))"
   ]
  },
  {
   "cell_type": "code",
   "execution_count": null,
   "id": "legal-fashion",
   "metadata": {},
   "outputs": [],
   "source": [
    "#Conta número de hashtags\n",
    "def count_hash(sms):\n",
    "    words = sms.split()\n",
    "    hashs = [word for word in words if word.startswith('@')]\n",
    "    return(len(hashs))"
   ]
  },
  {
   "cell_type": "code",
   "execution_count": null,
   "id": "empty-spending",
   "metadata": {},
   "outputs": [],
   "source": [
    "#Cria variável de número de hashtags\n",
    "df['HASH_COUNT'] = df['SMS'].apply(count_hash)\n",
    "df.head()"
   ]
  },
  {
   "cell_type": "code",
   "execution_count": null,
   "id": "satisfactory-employer",
   "metadata": {},
   "outputs": [],
   "source": [
    "#Média da quantidade de palavras em hashtags de cada classe\n",
    "Y = [df[df['LABEL'] == 'ok']['HASH_COUNT'].mean(), df[df['LABEL'] == 'blocked']['HASH_COUNT'].mean()]\n",
    "\n",
    "#Apresentação\n",
    "print('Média da quantidade de hashtags de cada classe')\n",
    "print('Classe ok :', Y[0])\n",
    "print('Classe blocked :', Y[1])"
   ]
  },
  {
   "cell_type": "code",
   "execution_count": null,
   "id": "sensitive-weekend",
   "metadata": {},
   "outputs": [],
   "source": [
    "#Cria variável de números\n",
    "df['WORD_NUMERIC'] = 0\n",
    "\n",
    "#Processamento\n",
    "for i in np.arange(0,len(df['SMS'])):\n",
    "    df.loc[i,'WORD_NUMERIC'] = 1 if len(re.findall(r'\\d+(?:\\.\\d*(?:[eE]\\d+))?', df.loc[i,'SMS'])) > 0 else 0\n",
    "    \n",
    "#Apresentação\n",
    "df.head()"
   ]
  },
  {
   "cell_type": "code",
   "execution_count": null,
   "id": "excited-fraud",
   "metadata": {},
   "outputs": [],
   "source": [
    "#Média da quantidade de números de cada classe\n",
    "Y = [df[df['LABEL'] == 'ok']['WORD_NUMERIC'].mean(), df[df['LABEL'] == 'blocked']['WORD_NUMERIC'].mean()]\n",
    "\n",
    "#Apresentação\n",
    "print('Média da quantidade de números de cada classe')\n",
    "print('Classe ok :', Y[0])\n",
    "print('Classe blocked :', Y[1])"
   ]
  },
  {
   "cell_type": "code",
   "execution_count": null,
   "id": "banner-diversity",
   "metadata": {},
   "outputs": [],
   "source": [
    "#Instância o processamento de texto\n",
    "url_extractor = urlextract.URLExtract()\n",
    "\n",
    "#Cria variável de links\n",
    "df['URL'] = 0\n",
    "\n",
    "#Processamento\n",
    "for i in np.arange(0, len(df['SMS'])):\n",
    "    df.loc[i,'URL'] = 1 if len(url_extractor.find_urls(df.loc[i,'SMS'])) > 0 else 0\n",
    "    \n",
    "#Apresentação\n",
    "df.head()"
   ]
  },
  {
   "cell_type": "code",
   "execution_count": null,
   "id": "advisory-advocate",
   "metadata": {},
   "outputs": [],
   "source": [
    "#Média da quantidade de links de cada classe\n",
    "Y = [df[df['LABEL'] == 'ok']['URL'].mean(), df[df['LABEL'] == 'blocked']['URL'].mean()]\n",
    "\n",
    "#Apresentação\n",
    "print('Média da quantidade de links de cada classe')\n",
    "print('Classe ok :', Y[0])\n",
    "print('Classe blocked :', Y[1])"
   ]
  },
  {
   "cell_type": "markdown",
   "id": "graduate-duration",
   "metadata": {},
   "source": [
    "Foram criados alguns campos no dataset para verificar particularidades do texto, como número de URL, número de dígitos, número de hashtag, número de palavras em caixa alta, número de caracteres."
   ]
  },
  {
   "cell_type": "markdown",
   "id": "hispanic-industry",
   "metadata": {},
   "source": [
    "1. **número de caracteres:** as classes bloqueadas possuem um pouco mais de caracteres\n",
    "2. **número de dígitos:** as duas classes apresentam quase a mesma quantidade\n",
    "3. **número de hashtag:** a classes bloqueada apresento **zero** @\n",
    "4. **número de em caixa alta** as duas classes apresentam quase a mesma quantidade\n",
    "5. **número de URL:** a classe bloqueada apresenta bem mais frequência de links"
   ]
  },
  {
   "cell_type": "code",
   "execution_count": null,
   "id": "vietnamese-civilization",
   "metadata": {},
   "outputs": [],
   "source": []
  },
  {
   "cell_type": "code",
   "execution_count": null,
   "id": "welsh-peripheral",
   "metadata": {},
   "outputs": [],
   "source": []
  },
  {
   "cell_type": "code",
   "execution_count": null,
   "id": "opposed-controversy",
   "metadata": {},
   "outputs": [],
   "source": []
  }
 ],
 "metadata": {
  "kernelspec": {
   "display_name": "Python 3",
   "language": "python",
   "name": "python3"
  },
  "language_info": {
   "codemirror_mode": {
    "name": "ipython",
    "version": 3
   },
   "file_extension": ".py",
   "mimetype": "text/x-python",
   "name": "python",
   "nbconvert_exporter": "python",
   "pygments_lexer": "ipython3",
   "version": "3.6.8"
  }
 },
 "nbformat": 4,
 "nbformat_minor": 5
}
